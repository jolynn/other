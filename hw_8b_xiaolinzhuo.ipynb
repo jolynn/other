{
 "metadata": {
  "name": "",
  "signature": "sha256:4e6e99ec28694533f4524273b156e8f855da4819b9f5f9a656695726ed416caf"
 },
 "nbformat": 3,
 "nbformat_minor": 0,
 "worksheets": [
  {
   "cells": [
    {
     "cell_type": "markdown",
     "metadata": {},
     "source": [
      "#Stat 201 - Homework 8b\n",
      "##Facts about American Presidents\n",
      "\n",
      "Xiaolin Zhuo \n",
      "March 25, 2015"
     ]
    },
    {
     "cell_type": "code",
     "collapsed": false,
     "input": [
      "#setup\n",
      "%matplotlib inline\n",
      "import numpy as np\n",
      "import matplotlib.pyplot as plt\n",
      "import pandas as pd\n",
      "import requests\n",
      "import re\n",
      "import datetime\n",
      "import calendar\n",
      "from collections import defaultdict\n",
      "from operator import itemgetter\n",
      "from pattern import web\n",
      "\n",
      "# set some nicer defaults for matplotlib\n",
      "from matplotlib import rcParams\n",
      "\n",
      "#these colors come from colorbrewer2.org. Each is an RGB triplet\n",
      "dark2_colors = [(0.10588235294117647, 0.6196078431372549, 0.4666666666666667),\n",
      "                (0.8509803921568627, 0.37254901960784315, 0.00784313725490196),\n",
      "                (0.4588235294117647, 0.4392156862745098, 0.7019607843137254),\n",
      "                (0.9058823529411765, 0.1607843137254902, 0.5411764705882353),\n",
      "                (0.4, 0.6509803921568628, 0.11764705882352941),\n",
      "                (0.9019607843137255, 0.6705882352941176, 0.00784313725490196),\n",
      "                (0.6509803921568628, 0.4627450980392157, 0.11372549019607843),\n",
      "                (0.4, 0.4, 0.4)]\n",
      "\n",
      "rcParams['figure.figsize'] = (10, 6)\n",
      "rcParams['figure.dpi'] = 150\n",
      "rcParams['axes.color_cycle'] = dark2_colors\n",
      "rcParams['lines.linewidth'] = 2\n",
      "rcParams['axes.grid'] = False\n",
      "rcParams['axes.facecolor'] = 'white'\n",
      "rcParams['font.size'] = 14\n",
      "rcParams['patch.edgecolor'] = 'none'\n",
      "\n",
      "def remove_border(axes=None, top=False, right=False, left=True, bottom=True):\n",
      "    \"\"\"\n",
      "    Minimize chartjunk by stripping out unnecessary plot borders and axis ticks\n",
      "    \n",
      "    The top/right/left/bottom keywords toggle whether the corresponding plot border is drawn\n",
      "    \"\"\"\n",
      "    ax = axes or plt.gca()\n",
      "    ax.spines['top'].set_visible(top)\n",
      "    ax.spines['right'].set_visible(right)\n",
      "    ax.spines['left'].set_visible(left)\n",
      "    ax.spines['bottom'].set_visible(bottom)\n",
      "    \n",
      "    #turn off all ticks\n",
      "    ax.yaxis.set_ticks_position('none')\n",
      "    ax.xaxis.set_ticks_position('none')\n",
      "    \n",
      "    #now re-enable visibles\n",
      "    if top:\n",
      "        ax.xaxis.tick_top()\n",
      "    if bottom:\n",
      "        ax.xaxis.tick_bottom()\n",
      "    if left:\n",
      "        ax.yaxis.tick_left()\n",
      "    if right:\n",
      "        ax.yaxis.tick_right()"
     ],
     "language": "python",
     "metadata": {},
     "outputs": [],
     "prompt_number": 1
    },
    {
     "cell_type": "markdown",
     "metadata": {},
     "source": [
      "##Part 1: Data Scraping\n",
      "\n",
      "In this section I am going to scrape data from the Wikipedia page (http://en.wikipedia.org/wiki/List_of_Presidents_of_the_United_States). I am interested in getting the names, the birth and death years, the start and end of offices, and the party affiliations of all U.S. presidents. "
     ]
    },
    {
     "cell_type": "code",
     "collapsed": false,
     "input": [
      "url = 'http://en.wikipedia.org/wiki/List_of_Presidents_of_the_United_States'\n",
      "\n",
      "#read webpage html\n",
      "dom = web.Element(requests.get(url).text)\n",
      "\n",
      "#create a dictionary to store data\n",
      "data = defaultdict(list)\n",
      "\n",
      "#convert month name to number\n",
      "months = {v: k for k,v in enumerate(calendar.month_name)}\n",
      "\n",
      "\n",
      "#parse info from table\n",
      "table = dom.by_class(\"wikitable\")[0]\n",
      "\n",
      "for row in table.by_tag('tr')[1:]:\n",
      "    if len(row.by_tag('th')) > 0:\n",
      "        cells = row.by_tag('td')\n",
      "        \n",
      "        data['name'].append(cells[1].by_tag('a')[0].content)\n",
      "        \n",
      "        birth_death_years = re.findall(r'[0-9]{4}', cells[1].by_tag('small')[0].content)\n",
      "        if len(birth_death_years)==2:\n",
      "            data['birth_yr'].append(int(birth_death_years[0]))\n",
      "            data['death_yr'].append(int(birth_death_years[1]))\n",
      "        elif len(birth_death_years)==1:\n",
      "            data['birth_yr'].append(int(birth_death_years[0]))\n",
      "            data['death_yr'].append(None)\n",
      "        else:\n",
      "            print 'unexpected'\n",
      "            \n",
      "        data['office_start'].append(int(re.search(r'[0-9]{4}', cells[2].content).group(0)))\n",
      "\n",
      "        if re.search(r'[0-9]{4}', cells[3].content):\n",
      "            data['office_end'].append(int(re.search(r'[0-9]{4}', cells[3].content).group(0)))\n",
      "        else:\n",
      "            data['office_end'].append(None)\n",
      "\n",
      "           \n",
      "        if 'Independent' in cells[4].content:\n",
      "            data['party'].append('Independent')\n",
      "        else:\n",
      "            data['party'].append(cells[4].by_tag('a')[0].content)"
     ],
     "language": "python",
     "metadata": {},
     "outputs": [],
     "prompt_number": 2
    },
    {
     "cell_type": "code",
     "collapsed": false,
     "input": [
      "#put data into a dataframe\n",
      "df = pd.DataFrame(data)\n",
      "df.head()"
     ],
     "language": "python",
     "metadata": {},
     "outputs": [
      {
       "html": [
        "<div style=\"max-height:1000px;max-width:1500px;overflow:auto;\">\n",
        "<table border=\"1\" class=\"dataframe\">\n",
        "  <thead>\n",
        "    <tr style=\"text-align: right;\">\n",
        "      <th></th>\n",
        "      <th>birth_yr</th>\n",
        "      <th>death_yr</th>\n",
        "      <th>name</th>\n",
        "      <th>office_end</th>\n",
        "      <th>office_start</th>\n",
        "      <th>party</th>\n",
        "    </tr>\n",
        "  </thead>\n",
        "  <tbody>\n",
        "    <tr>\n",
        "      <th>0</th>\n",
        "      <td> 1732</td>\n",
        "      <td> 1799</td>\n",
        "      <td> George Washington</td>\n",
        "      <td> 1797</td>\n",
        "      <td> 1789</td>\n",
        "      <td>                   Independent</td>\n",
        "    </tr>\n",
        "    <tr>\n",
        "      <th>1</th>\n",
        "      <td> 1735</td>\n",
        "      <td> 1826</td>\n",
        "      <td>        John Adams</td>\n",
        "      <td> 1801</td>\n",
        "      <td> 1797</td>\n",
        "      <td>                    Federalist</td>\n",
        "    </tr>\n",
        "    <tr>\n",
        "      <th>2</th>\n",
        "      <td> 1743</td>\n",
        "      <td> 1826</td>\n",
        "      <td>  Thomas Jefferson</td>\n",
        "      <td> 1809</td>\n",
        "      <td> 1801</td>\n",
        "      <td> Democratic-&lt;br /&gt;\\nRepublican</td>\n",
        "    </tr>\n",
        "    <tr>\n",
        "      <th>3</th>\n",
        "      <td> 1751</td>\n",
        "      <td> 1836</td>\n",
        "      <td>     James Madison</td>\n",
        "      <td> 1817</td>\n",
        "      <td> 1809</td>\n",
        "      <td> Democratic-&lt;br /&gt;\\nRepublican</td>\n",
        "    </tr>\n",
        "    <tr>\n",
        "      <th>4</th>\n",
        "      <td> 1758</td>\n",
        "      <td> 1831</td>\n",
        "      <td>      James Monroe</td>\n",
        "      <td> 1825</td>\n",
        "      <td> 1817</td>\n",
        "      <td> Democratic-&lt;br /&gt;\\nRepublican</td>\n",
        "    </tr>\n",
        "  </tbody>\n",
        "</table>\n",
        "</div>"
       ],
       "metadata": {},
       "output_type": "pyout",
       "prompt_number": 3,
       "text": [
        "   birth_yr  death_yr               name  office_end  office_start  \\\n",
        "0      1732      1799  George Washington        1797          1789   \n",
        "1      1735      1826         John Adams        1801          1797   \n",
        "2      1743      1826   Thomas Jefferson        1809          1801   \n",
        "3      1751      1836      James Madison        1817          1809   \n",
        "4      1758      1831       James Monroe        1825          1817   \n",
        "\n",
        "                           party  \n",
        "0                    Independent  \n",
        "1                     Federalist  \n",
        "2  Democratic-<br />\\nRepublican  \n",
        "3  Democratic-<br />\\nRepublican  \n",
        "4  Democratic-<br />\\nRepublican  "
       ]
      }
     ],
     "prompt_number": 3
    },
    {
     "cell_type": "code",
     "collapsed": false,
     "input": [
      "#check unique values in column 'party'\n",
      "np.unique(df.party)"
     ],
     "language": "python",
     "metadata": {},
     "outputs": [
      {
       "metadata": {},
       "output_type": "pyout",
       "prompt_number": 4,
       "text": [
        "array([u'Democratic', u'Democratic-<br />\\nRepublican', u'Federalist',\n",
        "       'Independent', u'Republican', u'Whig'], dtype=object)"
       ]
      }
     ],
     "prompt_number": 4
    },
    {
     "cell_type": "code",
     "collapsed": false,
     "input": [
      "#edit the column party\n",
      "def edit_party(x):\n",
      "    if x=='Democratic-<br />\\nRepublican':\n",
      "        return 'Democratic-Republican'\n",
      "    return x\n",
      "\n",
      "df['party'] = df.party.map(edit_party)\n",
      "\n",
      "#check edited results\n",
      "np.unique(df.party)"
     ],
     "language": "python",
     "metadata": {},
     "outputs": [
      {
       "metadata": {},
       "output_type": "pyout",
       "prompt_number": 5,
       "text": [
        "array([u'Democratic', 'Democratic-Republican', u'Federalist',\n",
        "       'Independent', u'Republican', u'Whig'], dtype=object)"
       ]
      }
     ],
     "prompt_number": 5
    },
    {
     "cell_type": "code",
     "collapsed": false,
     "input": [
      "#create new columns\n",
      "df['living_years'] = df.apply(lambda row: row['death_yr']-row['birth_yr'], axis=1)\n",
      "df['office_years'] = df.apply(lambda row: row['office_end']-row['office_start'], axis=1)\n",
      "df['office_start_age'] = df.apply(lambda row: row['office_start']-row['birth_yr'], axis=1)\n",
      "df.head()"
     ],
     "language": "python",
     "metadata": {},
     "outputs": [
      {
       "html": [
        "<div style=\"max-height:1000px;max-width:1500px;overflow:auto;\">\n",
        "<table border=\"1\" class=\"dataframe\">\n",
        "  <thead>\n",
        "    <tr style=\"text-align: right;\">\n",
        "      <th></th>\n",
        "      <th>birth_yr</th>\n",
        "      <th>death_yr</th>\n",
        "      <th>name</th>\n",
        "      <th>office_end</th>\n",
        "      <th>office_start</th>\n",
        "      <th>party</th>\n",
        "      <th>living_years</th>\n",
        "      <th>office_years</th>\n",
        "      <th>office_start_age</th>\n",
        "    </tr>\n",
        "  </thead>\n",
        "  <tbody>\n",
        "    <tr>\n",
        "      <th>0</th>\n",
        "      <td> 1732</td>\n",
        "      <td> 1799</td>\n",
        "      <td> George Washington</td>\n",
        "      <td> 1797</td>\n",
        "      <td> 1789</td>\n",
        "      <td>           Independent</td>\n",
        "      <td> 67</td>\n",
        "      <td> 8</td>\n",
        "      <td> 57</td>\n",
        "    </tr>\n",
        "    <tr>\n",
        "      <th>1</th>\n",
        "      <td> 1735</td>\n",
        "      <td> 1826</td>\n",
        "      <td>        John Adams</td>\n",
        "      <td> 1801</td>\n",
        "      <td> 1797</td>\n",
        "      <td>            Federalist</td>\n",
        "      <td> 91</td>\n",
        "      <td> 4</td>\n",
        "      <td> 62</td>\n",
        "    </tr>\n",
        "    <tr>\n",
        "      <th>2</th>\n",
        "      <td> 1743</td>\n",
        "      <td> 1826</td>\n",
        "      <td>  Thomas Jefferson</td>\n",
        "      <td> 1809</td>\n",
        "      <td> 1801</td>\n",
        "      <td> Democratic-Republican</td>\n",
        "      <td> 83</td>\n",
        "      <td> 8</td>\n",
        "      <td> 58</td>\n",
        "    </tr>\n",
        "    <tr>\n",
        "      <th>3</th>\n",
        "      <td> 1751</td>\n",
        "      <td> 1836</td>\n",
        "      <td>     James Madison</td>\n",
        "      <td> 1817</td>\n",
        "      <td> 1809</td>\n",
        "      <td> Democratic-Republican</td>\n",
        "      <td> 85</td>\n",
        "      <td> 8</td>\n",
        "      <td> 58</td>\n",
        "    </tr>\n",
        "    <tr>\n",
        "      <th>4</th>\n",
        "      <td> 1758</td>\n",
        "      <td> 1831</td>\n",
        "      <td>      James Monroe</td>\n",
        "      <td> 1825</td>\n",
        "      <td> 1817</td>\n",
        "      <td> Democratic-Republican</td>\n",
        "      <td> 73</td>\n",
        "      <td> 8</td>\n",
        "      <td> 59</td>\n",
        "    </tr>\n",
        "  </tbody>\n",
        "</table>\n",
        "</div>"
       ],
       "metadata": {},
       "output_type": "pyout",
       "prompt_number": 6,
       "text": [
        "   birth_yr  death_yr               name  office_end  office_start  \\\n",
        "0      1732      1799  George Washington        1797          1789   \n",
        "1      1735      1826         John Adams        1801          1797   \n",
        "2      1743      1826   Thomas Jefferson        1809          1801   \n",
        "3      1751      1836      James Madison        1817          1809   \n",
        "4      1758      1831       James Monroe        1825          1817   \n",
        "\n",
        "                   party  living_years  office_years  office_start_age  \n",
        "0            Independent            67             8                57  \n",
        "1             Federalist            91             4                62  \n",
        "2  Democratic-Republican            83             8                58  \n",
        "3  Democratic-Republican            85             8                58  \n",
        "4  Democratic-Republican            73             8                59  "
       ]
      }
     ],
     "prompt_number": 6
    },
    {
     "cell_type": "markdown",
     "metadata": {},
     "source": [
      "##Part 2: Understanding the data through graphics"
     ]
    },
    {
     "cell_type": "markdown",
     "metadata": {},
     "source": [
      "U.S. presidents on average started office age at 55, which is also the median age. The youngest president who started office at age 43 was Roosevelt, and the oldest president who started office at age 70 was Reagan. The histogram below shows the entire distribution of starting age of U.S. presidents. It is roughly a normal distribution around mean 55. "
     ]
    },
    {
     "cell_type": "code",
     "collapsed": false,
     "input": [
      "df.office_start_age.describe()"
     ],
     "language": "python",
     "metadata": {},
     "outputs": [
      {
       "metadata": {},
       "output_type": "pyout",
       "prompt_number": 7,
       "text": [
        "count    44.000000\n",
        "mean     55.409091\n",
        "std       6.255484\n",
        "min      43.000000\n",
        "25%      51.000000\n",
        "50%      55.000000\n",
        "75%      58.250000\n",
        "max      70.000000\n",
        "dtype: float64"
       ]
      }
     ],
     "prompt_number": 7
    },
    {
     "cell_type": "code",
     "collapsed": false,
     "input": [
      "df[(df.office_start_age==min(df.office_start_age))|(df.office_start_age==max(df.office_start_age))]"
     ],
     "language": "python",
     "metadata": {},
     "outputs": [
      {
       "html": [
        "<div style=\"max-height:1000px;max-width:1500px;overflow:auto;\">\n",
        "<table border=\"1\" class=\"dataframe\">\n",
        "  <thead>\n",
        "    <tr style=\"text-align: right;\">\n",
        "      <th></th>\n",
        "      <th>birth_yr</th>\n",
        "      <th>death_yr</th>\n",
        "      <th>name</th>\n",
        "      <th>office_end</th>\n",
        "      <th>office_start</th>\n",
        "      <th>party</th>\n",
        "      <th>living_years</th>\n",
        "      <th>office_years</th>\n",
        "      <th>office_start_age</th>\n",
        "    </tr>\n",
        "  </thead>\n",
        "  <tbody>\n",
        "    <tr>\n",
        "      <th>25</th>\n",
        "      <td> 1858</td>\n",
        "      <td> 1919</td>\n",
        "      <td> Theodore Roosevelt</td>\n",
        "      <td> 1909</td>\n",
        "      <td> 1901</td>\n",
        "      <td> Republican</td>\n",
        "      <td> 61</td>\n",
        "      <td> 8</td>\n",
        "      <td> 43</td>\n",
        "    </tr>\n",
        "    <tr>\n",
        "      <th>39</th>\n",
        "      <td> 1911</td>\n",
        "      <td> 2004</td>\n",
        "      <td>      Ronald Reagan</td>\n",
        "      <td> 1989</td>\n",
        "      <td> 1981</td>\n",
        "      <td> Republican</td>\n",
        "      <td> 93</td>\n",
        "      <td> 8</td>\n",
        "      <td> 70</td>\n",
        "    </tr>\n",
        "  </tbody>\n",
        "</table>\n",
        "</div>"
       ],
       "metadata": {},
       "output_type": "pyout",
       "prompt_number": 8,
       "text": [
        "    birth_yr  death_yr                name  office_end  office_start  \\\n",
        "25      1858      1919  Theodore Roosevelt        1909          1901   \n",
        "39      1911      2004       Ronald Reagan        1989          1981   \n",
        "\n",
        "         party  living_years  office_years  office_start_age  \n",
        "25  Republican            61             8                43  \n",
        "39  Republican            93             8                70  "
       ]
      }
     ],
     "prompt_number": 8
    },
    {
     "cell_type": "code",
     "collapsed": false,
     "input": [
      "plt.hist(df.office_start_age, bins=50)\n",
      "plt.title('Distribution of age at time of office start of U.S. presidents')\n",
      "remove_border()"
     ],
     "language": "python",
     "metadata": {},
     "outputs": [
      {
       "metadata": {},
       "output_type": "display_data",
       "png": "[encoded data removed]",
       "text": [
        "<matplotlib.figure.Figure at 0x1021a8a90>"
       ]
      }
     ],
     "prompt_number": 9
    },
    {
     "cell_type": "markdown",
     "metadata": {},
     "source": [
      "Excluding the current president and the four living former presidents, U.S. presidents on average lived 70 years. The shortest lived president was JFK who died at age 46, and the longest lived president was Reagon who died at age 93. "
     ]
    },
    {
     "cell_type": "code",
     "collapsed": false,
     "input": [
      "df.living_years.describe()"
     ],
     "language": "python",
     "metadata": {},
     "outputs": [
      {
       "metadata": {},
       "output_type": "pyout",
       "prompt_number": 10,
       "text": [
        "count    39.000000\n",
        "mean     70.897436\n",
        "std      11.924753\n",
        "min      46.000000\n",
        "25%      63.000000\n",
        "50%      71.000000\n",
        "75%      79.500000\n",
        "max      93.000000\n",
        "dtype: float64"
       ]
      }
     ],
     "prompt_number": 10
    },
    {
     "cell_type": "code",
     "collapsed": false,
     "input": [
      "df[(df.living_years==min(df.living_years))|(df.living_years==max(df.living_years))]"
     ],
     "language": "python",
     "metadata": {},
     "outputs": [
      {
       "html": [
        "<div style=\"max-height:1000px;max-width:1500px;overflow:auto;\">\n",
        "<table border=\"1\" class=\"dataframe\">\n",
        "  <thead>\n",
        "    <tr style=\"text-align: right;\">\n",
        "      <th></th>\n",
        "      <th>birth_yr</th>\n",
        "      <th>death_yr</th>\n",
        "      <th>name</th>\n",
        "      <th>office_end</th>\n",
        "      <th>office_start</th>\n",
        "      <th>party</th>\n",
        "      <th>living_years</th>\n",
        "      <th>office_years</th>\n",
        "      <th>office_start_age</th>\n",
        "    </tr>\n",
        "  </thead>\n",
        "  <tbody>\n",
        "    <tr>\n",
        "      <th>34</th>\n",
        "      <td> 1917</td>\n",
        "      <td> 1963</td>\n",
        "      <td> John F. Kennedy</td>\n",
        "      <td> 1963</td>\n",
        "      <td> 1961</td>\n",
        "      <td> Democratic</td>\n",
        "      <td> 46</td>\n",
        "      <td> 2</td>\n",
        "      <td> 44</td>\n",
        "    </tr>\n",
        "    <tr>\n",
        "      <th>37</th>\n",
        "      <td> 1913</td>\n",
        "      <td> 2006</td>\n",
        "      <td>     Gerald Ford</td>\n",
        "      <td> 1977</td>\n",
        "      <td> 1974</td>\n",
        "      <td> Republican</td>\n",
        "      <td> 93</td>\n",
        "      <td> 3</td>\n",
        "      <td> 61</td>\n",
        "    </tr>\n",
        "    <tr>\n",
        "      <th>39</th>\n",
        "      <td> 1911</td>\n",
        "      <td> 2004</td>\n",
        "      <td>   Ronald Reagan</td>\n",
        "      <td> 1989</td>\n",
        "      <td> 1981</td>\n",
        "      <td> Republican</td>\n",
        "      <td> 93</td>\n",
        "      <td> 8</td>\n",
        "      <td> 70</td>\n",
        "    </tr>\n",
        "  </tbody>\n",
        "</table>\n",
        "</div>"
       ],
       "metadata": {},
       "output_type": "pyout",
       "prompt_number": 11,
       "text": [
        "    birth_yr  death_yr             name  office_end  office_start       party  \\\n",
        "34      1917      1963  John F. Kennedy        1963          1961  Democratic   \n",
        "37      1913      2006      Gerald Ford        1977          1974  Republican   \n",
        "39      1911      2004    Ronald Reagan        1989          1981  Republican   \n",
        "\n",
        "    living_years  office_years  office_start_age  \n",
        "34            46             2                44  \n",
        "37            93             3                61  \n",
        "39            93             8                70  "
       ]
      }
     ],
     "prompt_number": 11
    },
    {
     "cell_type": "code",
     "collapsed": false,
     "input": [
      "living_years = df.living_years\n",
      "living_years = living_years[~np.isnan(living_years.values)]\n",
      "plt.hist(living_years, bins=50)\n",
      "plt.title('Distribution of life spans of U.S. presidents')\n",
      "remove_border()"
     ],
     "language": "python",
     "metadata": {},
     "outputs": [
      {
       "metadata": {},
       "output_type": "display_data",
       "png": "[encoded data removed]",
       "text": [
        "<matplotlib.figure.Figure at 0x10b56ec10>"
       ]
      }
     ],
     "prompt_number": 12
    },
    {
     "cell_type": "markdown",
     "metadata": {},
     "source": [
      "Next, I examine the party affiliations of U.S. presidents. Republican and Democratic parties each have a much longer history than the rest of parties, and they occupy the two most common parties of U.S. presidents."
     ]
    },
    {
     "cell_type": "code",
     "collapsed": false,
     "input": [
      "N = len(np.unique(df.party))\n",
      "party_count = [(df.groupby('party').count().ix[:,0].index[i], df.groupby('party').count().ix[:,0].values[i]) for i in range(N)]\n",
      "\n",
      "#arrange party affiliations by popularity\n",
      "party_count = sorted(party_count, key=itemgetter(1), reverse=True)\n",
      "\n",
      "ind = np.arange(N)    # the x locations for the groups\n",
      "width = 0.35       # the width of the bars\n",
      "plt.bar(ind, map(itemgetter(1), party_count), width)\n",
      "plt.ylabel('Freq')\n",
      "plt.title('Party affiliation of U.S. presidents')\n",
      "plt.xticks(ind+width/2., map(itemgetter(0), party_count))\n",
      "locs, labels = plt.xticks()\n",
      "plt.setp(labels, rotation=90)\n",
      "remove_border()"
     ],
     "language": "python",
     "metadata": {},
     "outputs": [
      {
       "metadata": {},
       "output_type": "display_data",
       "png": "[encoded data removed]",
       "text": [
        "<matplotlib.figure.Figure at 0x10b95a690>"
       ]
      }
     ],
     "prompt_number": 13
    },
    {
     "cell_type": "markdown",
     "metadata": {},
     "source": [
      "Finally, I look at the years that each president spent in office, excluding the current president. The majority of presidents spent either four or eight years in office. Harrison and Garfield held the office for the shorted time. They entered and left the office in the same year. The last scatterplot shows the relationship between the years spent in office and the life spans of the presidents. There exists a moderate correlation (0.26). The presidents who lived longer tend to stay a bit longer in office too. "
     ]
    },
    {
     "cell_type": "code",
     "collapsed": false,
     "input": [
      "df.groupby('office_years').count()"
     ],
     "language": "python",
     "metadata": {},
     "outputs": [
      {
       "html": [
        "<div style=\"max-height:1000px;max-width:1500px;overflow:auto;\">\n",
        "<table border=\"1\" class=\"dataframe\">\n",
        "  <thead>\n",
        "    <tr style=\"text-align: right;\">\n",
        "      <th></th>\n",
        "      <th>birth_yr</th>\n",
        "      <th>death_yr</th>\n",
        "      <th>name</th>\n",
        "      <th>office_end</th>\n",
        "      <th>office_start</th>\n",
        "      <th>party</th>\n",
        "      <th>living_years</th>\n",
        "      <th>office_start_age</th>\n",
        "    </tr>\n",
        "    <tr>\n",
        "      <th>office_years</th>\n",
        "      <th></th>\n",
        "      <th></th>\n",
        "      <th></th>\n",
        "      <th></th>\n",
        "      <th></th>\n",
        "      <th></th>\n",
        "      <th></th>\n",
        "      <th></th>\n",
        "    </tr>\n",
        "  </thead>\n",
        "  <tbody>\n",
        "    <tr>\n",
        "      <th>0 </th>\n",
        "      <td>  2</td>\n",
        "      <td>  2</td>\n",
        "      <td>  2</td>\n",
        "      <td>  2</td>\n",
        "      <td>  2</td>\n",
        "      <td>  2</td>\n",
        "      <td>  2</td>\n",
        "      <td>  2</td>\n",
        "    </tr>\n",
        "    <tr>\n",
        "      <th>1 </th>\n",
        "      <td>  1</td>\n",
        "      <td>  1</td>\n",
        "      <td>  1</td>\n",
        "      <td>  1</td>\n",
        "      <td>  1</td>\n",
        "      <td>  1</td>\n",
        "      <td>  1</td>\n",
        "      <td>  1</td>\n",
        "    </tr>\n",
        "    <tr>\n",
        "      <th>2 </th>\n",
        "      <td>  2</td>\n",
        "      <td>  2</td>\n",
        "      <td>  2</td>\n",
        "      <td>  2</td>\n",
        "      <td>  2</td>\n",
        "      <td>  2</td>\n",
        "      <td>  2</td>\n",
        "      <td>  2</td>\n",
        "    </tr>\n",
        "    <tr>\n",
        "      <th>3 </th>\n",
        "      <td>  2</td>\n",
        "      <td>  2</td>\n",
        "      <td>  2</td>\n",
        "      <td>  2</td>\n",
        "      <td>  2</td>\n",
        "      <td>  2</td>\n",
        "      <td>  2</td>\n",
        "      <td>  2</td>\n",
        "    </tr>\n",
        "    <tr>\n",
        "      <th>4 </th>\n",
        "      <td> 19</td>\n",
        "      <td> 17</td>\n",
        "      <td> 19</td>\n",
        "      <td> 19</td>\n",
        "      <td> 19</td>\n",
        "      <td> 19</td>\n",
        "      <td> 17</td>\n",
        "      <td> 19</td>\n",
        "    </tr>\n",
        "    <tr>\n",
        "      <th>5 </th>\n",
        "      <td>  1</td>\n",
        "      <td>  1</td>\n",
        "      <td>  1</td>\n",
        "      <td>  1</td>\n",
        "      <td>  1</td>\n",
        "      <td>  1</td>\n",
        "      <td>  1</td>\n",
        "      <td>  1</td>\n",
        "    </tr>\n",
        "    <tr>\n",
        "      <th>6 </th>\n",
        "      <td>  2</td>\n",
        "      <td>  2</td>\n",
        "      <td>  2</td>\n",
        "      <td>  2</td>\n",
        "      <td>  2</td>\n",
        "      <td>  2</td>\n",
        "      <td>  2</td>\n",
        "      <td>  2</td>\n",
        "    </tr>\n",
        "    <tr>\n",
        "      <th>8 </th>\n",
        "      <td> 13</td>\n",
        "      <td> 11</td>\n",
        "      <td> 13</td>\n",
        "      <td> 13</td>\n",
        "      <td> 13</td>\n",
        "      <td> 13</td>\n",
        "      <td> 11</td>\n",
        "      <td> 13</td>\n",
        "    </tr>\n",
        "    <tr>\n",
        "      <th>12</th>\n",
        "      <td>  1</td>\n",
        "      <td>  1</td>\n",
        "      <td>  1</td>\n",
        "      <td>  1</td>\n",
        "      <td>  1</td>\n",
        "      <td>  1</td>\n",
        "      <td>  1</td>\n",
        "      <td>  1</td>\n",
        "    </tr>\n",
        "  </tbody>\n",
        "</table>\n",
        "</div>"
       ],
       "metadata": {},
       "output_type": "pyout",
       "prompt_number": 14,
       "text": [
        "              birth_yr  death_yr  name  office_end  office_start  party  \\\n",
        "office_years                                                              \n",
        "0                    2         2     2           2             2      2   \n",
        "1                    1         1     1           1             1      1   \n",
        "2                    2         2     2           2             2      2   \n",
        "3                    2         2     2           2             2      2   \n",
        "4                   19        17    19          19            19     19   \n",
        "5                    1         1     1           1             1      1   \n",
        "6                    2         2     2           2             2      2   \n",
        "8                   13        11    13          13            13     13   \n",
        "12                   1         1     1           1             1      1   \n",
        "\n",
        "              living_years  office_start_age  \n",
        "office_years                                  \n",
        "0                        2                 2  \n",
        "1                        1                 1  \n",
        "2                        2                 2  \n",
        "3                        2                 2  \n",
        "4                       17                19  \n",
        "5                        1                 1  \n",
        "6                        2                 2  \n",
        "8                       11                13  \n",
        "12                       1                 1  "
       ]
      }
     ],
     "prompt_number": 14
    },
    {
     "cell_type": "code",
     "collapsed": false,
     "input": [
      "df[df.office_years==0]"
     ],
     "language": "python",
     "metadata": {},
     "outputs": [
      {
       "html": [
        "<div style=\"max-height:1000px;max-width:1500px;overflow:auto;\">\n",
        "<table border=\"1\" class=\"dataframe\">\n",
        "  <thead>\n",
        "    <tr style=\"text-align: right;\">\n",
        "      <th></th>\n",
        "      <th>birth_yr</th>\n",
        "      <th>death_yr</th>\n",
        "      <th>name</th>\n",
        "      <th>office_end</th>\n",
        "      <th>office_start</th>\n",
        "      <th>party</th>\n",
        "      <th>living_years</th>\n",
        "      <th>office_years</th>\n",
        "      <th>office_start_age</th>\n",
        "    </tr>\n",
        "  </thead>\n",
        "  <tbody>\n",
        "    <tr>\n",
        "      <th>8 </th>\n",
        "      <td> 1773</td>\n",
        "      <td> 1841</td>\n",
        "      <td> William Henry Harrison</td>\n",
        "      <td> 1841</td>\n",
        "      <td> 1841</td>\n",
        "      <td>       Whig</td>\n",
        "      <td> 68</td>\n",
        "      <td> 0</td>\n",
        "      <td> 68</td>\n",
        "    </tr>\n",
        "    <tr>\n",
        "      <th>19</th>\n",
        "      <td> 1831</td>\n",
        "      <td> 1881</td>\n",
        "      <td>      James A. Garfield</td>\n",
        "      <td> 1881</td>\n",
        "      <td> 1881</td>\n",
        "      <td> Republican</td>\n",
        "      <td> 50</td>\n",
        "      <td> 0</td>\n",
        "      <td> 50</td>\n",
        "    </tr>\n",
        "  </tbody>\n",
        "</table>\n",
        "</div>"
       ],
       "metadata": {},
       "output_type": "pyout",
       "prompt_number": 15,
       "text": [
        "    birth_yr  death_yr                    name  office_end  office_start  \\\n",
        "8       1773      1841  William Henry Harrison        1841          1841   \n",
        "19      1831      1881       James A. Garfield        1881          1881   \n",
        "\n",
        "         party  living_years  office_years  office_start_age  \n",
        "8         Whig            68             0                68  \n",
        "19  Republican            50             0                50  "
       ]
      }
     ],
     "prompt_number": 15
    },
    {
     "cell_type": "code",
     "collapsed": false,
     "input": [
      "office_years = df.office_years\n",
      "office_years = office_years[~np.isnan(office_years.values)]\n",
      "plt.hist(office_years, bins=50)\n",
      "plt.title('Distribution of years spent in office')\n",
      "remove_border()"
     ],
     "language": "python",
     "metadata": {},
     "outputs": [
      {
       "metadata": {},
       "output_type": "display_data",
       "png": "[encoded data removed]",
       "text": [
        "<matplotlib.figure.Figure at 0x10b4b6710>"
       ]
      }
     ],
     "prompt_number": 16
    },
    {
     "cell_type": "code",
     "collapsed": false,
     "input": [
      "print np.corrcoef(df[~np.isnan(df.living_years)].office_years, df[~np.isnan(df.living_years)].living_years)\n",
      "plt.scatter(df.office_years, df.living_years)\n",
      "plt.title('Relationship bewteen years spent in office and life span')\n",
      "remove_border()"
     ],
     "language": "python",
     "metadata": {},
     "outputs": [
      {
       "output_type": "stream",
       "stream": "stdout",
       "text": [
        "[[ 1.          0.26045083]\n",
        " [ 0.26045083  1.        ]]\n"
       ]
      },
      {
       "metadata": {},
       "output_type": "display_data",
       "png": "[encoded data removed]",
       "text": [
        "<matplotlib.figure.Figure at 0x10b86b890>"
       ]
      }
     ],
     "prompt_number": 17
    },
    {
     "cell_type": "code",
     "collapsed": false,
     "input": [],
     "language": "python",
     "metadata": {},
     "outputs": [],
     "prompt_number": 17
    }
   ],
   "metadata": {}
  }
 ]
}