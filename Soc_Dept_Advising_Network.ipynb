{
 "cells": [
  {
   "cell_type": "markdown",
   "metadata": {},
   "source": [
    "# Harvard Sociology Department Advising Network\n",
    "\n",
    "## An Update\n",
    "\n",
    "August 2017"
   ]
  },
  {
   "cell_type": "code",
   "execution_count": 29,
   "metadata": {
    "collapsed": false
   },
   "outputs": [
    {
     "name": "stderr",
     "output_type": "stream",
     "text": [
      "/Users/xzhuo/anaconda/lib/python2.7/site-packages/matplotlib/__init__.py:872: UserWarning: axes.color_cycle is deprecated and replaced with axes.prop_cycle; please use the latter.\n",
      "  warnings.warn(self.msg_depr % (key, alt_key))\n"
     ]
    }
   ],
   "source": [
    "# setup\n",
    "%matplotlib inline\n",
    "import numpy as np\n",
    "import matplotlib.pyplot as plt\n",
    "import pandas as pd\n",
    "import time\n",
    "import string\n",
    "import json\n",
    "import re\n",
    "import tweepy\n",
    "import networkx as nx\n",
    "from dateutil import parser\n",
    "from collections import defaultdict\n",
    "from os import listdir\n",
    "from os.path import isfile, join\n",
    "from itertools import combinations\n",
    "\n",
    "# set some nicer defaults for matplotlib\n",
    "from matplotlib import rcParams\n",
    "\n",
    "#these colors come from colorbrewer2.org. Each is an RGB triplet\n",
    "dark2_colors = [(0.10588235294117647, 0.6196078431372549, 0.4666666666666667),\n",
    "                (0.8509803921568627, 0.37254901960784315, 0.00784313725490196),\n",
    "                (0.4588235294117647, 0.4392156862745098, 0.7019607843137254),\n",
    "                (0.9058823529411765, 0.1607843137254902, 0.5411764705882353),\n",
    "                (0.4, 0.6509803921568628, 0.11764705882352941),\n",
    "                (0.9019607843137255, 0.6705882352941176, 0.00784313725490196),\n",
    "                (0.6509803921568628, 0.4627450980392157, 0.11372549019607843),\n",
    "                (0.4, 0.4, 0.4)]\n",
    "\n",
    "rcParams['figure.figsize'] = (10, 6)\n",
    "rcParams['figure.dpi'] = 150\n",
    "rcParams['axes.color_cycle'] = dark2_colors\n",
    "rcParams['lines.linewidth'] = 2\n",
    "rcParams['axes.grid'] = False\n",
    "rcParams['axes.facecolor'] = 'white'\n",
    "rcParams['font.size'] = 14\n",
    "rcParams['patch.edgecolor'] = 'none'\n",
    "\n",
    "def remove_border(axes=None, top=False, right=False, left=True, bottom=True):\n",
    "    \"\"\"\n",
    "    Minimize chartjunk by stripping out unnecessary plot borders and axis ticks\n",
    "    \n",
    "    The top/right/left/bottom keywords toggle whether the corresponding plot border is drawn\n",
    "    \"\"\"\n",
    "    ax = axes or plt.gca()\n",
    "    ax.spines['top'].set_visible(top)\n",
    "    ax.spines['right'].set_visible(right)\n",
    "    ax.spines['left'].set_visible(left)\n",
    "    ax.spines['bottom'].set_visible(bottom)\n",
    "    \n",
    "    #turn off all ticks\n",
    "    ax.yaxis.set_ticks_position('none')\n",
    "    ax.xaxis.set_ticks_position('none')\n",
    "    \n",
    "    #now re-enable visibles\n",
    "    if top:\n",
    "        ax.xaxis.tick_top()\n",
    "    if bottom:\n",
    "        ax.xaxis.tick_bottom()\n",
    "    if left:\n",
    "        ax.yaxis.tick_left()\n",
    "    if right:\n",
    "        ax.yaxis.tick_right()"
   ]
  },
  {
   "cell_type": "code",
   "execution_count": 2,
   "metadata": {
    "collapsed": false
   },
   "outputs": [
    {
     "data": {
      "text/html": [
       "<div>\n",
       "<table border=\"1\" class=\"dataframe\">\n",
       "  <thead>\n",
       "    <tr style=\"text-align: right;\">\n",
       "      <th></th>\n",
       "      <th>StudentLast</th>\n",
       "      <th>StudentFirst</th>\n",
       "      <th>Committee1 (chair)</th>\n",
       "      <th>Committee2</th>\n",
       "      <th>Committee3</th>\n",
       "      <th>Year</th>\n",
       "      <th>Committee4</th>\n",
       "      <th>Committee5</th>\n",
       "      <th>Unnamed: 8</th>\n",
       "    </tr>\n",
       "  </thead>\n",
       "  <tbody>\n",
       "    <tr>\n",
       "      <th>0</th>\n",
       "      <td>Rubin</td>\n",
       "      <td>Julia</td>\n",
       "      <td>Skocpol</td>\n",
       "      <td>Barnes, Louis</td>\n",
       "      <td>Bradach, Jeffrey</td>\n",
       "      <td>2001-2</td>\n",
       "      <td>Ventresca, M</td>\n",
       "      <td>NaN</td>\n",
       "      <td>NaN</td>\n",
       "    </tr>\n",
       "    <tr>\n",
       "      <th>1</th>\n",
       "      <td>Gonzalez</td>\n",
       "      <td>Angela</td>\n",
       "      <td>Winship</td>\n",
       "      <td>Bobo</td>\n",
       "      <td>Frank, David</td>\n",
       "      <td>2001-2</td>\n",
       "      <td>Champagne, Duane</td>\n",
       "      <td>NaN</td>\n",
       "      <td>NaN</td>\n",
       "    </tr>\n",
       "    <tr>\n",
       "      <th>2</th>\n",
       "      <td>Gorman</td>\n",
       "      <td>Elizabeth</td>\n",
       "      <td>Marsden</td>\n",
       "      <td>Reskin</td>\n",
       "      <td>Frank, David</td>\n",
       "      <td>2001-2</td>\n",
       "      <td>NaN</td>\n",
       "      <td>NaN</td>\n",
       "      <td>NaN</td>\n",
       "    </tr>\n",
       "    <tr>\n",
       "      <th>3</th>\n",
       "      <td>Frederick</td>\n",
       "      <td>Paula</td>\n",
       "      <td>Skocpol</td>\n",
       "      <td>Waters</td>\n",
       "      <td>Frank, David</td>\n",
       "      <td>2001-2</td>\n",
       "      <td>NaN</td>\n",
       "      <td>NaN</td>\n",
       "      <td>NaN</td>\n",
       "    </tr>\n",
       "    <tr>\n",
       "      <th>4</th>\n",
       "      <td>Wasserman</td>\n",
       "      <td>Noam</td>\n",
       "      <td>Nohria</td>\n",
       "      <td>Baker</td>\n",
       "      <td>Gompers, Paul</td>\n",
       "      <td>2001-2</td>\n",
       "      <td>Marsden</td>\n",
       "      <td>NaN</td>\n",
       "      <td>NaN</td>\n",
       "    </tr>\n",
       "  </tbody>\n",
       "</table>\n",
       "</div>"
      ],
      "text/plain": [
       "  StudentLast StudentFirst Committee1 (chair)     Committee2  \\\n",
       "0       Rubin        Julia            Skocpol  Barnes, Louis   \n",
       "1    Gonzalez       Angela            Winship           Bobo   \n",
       "2      Gorman    Elizabeth            Marsden         Reskin   \n",
       "3   Frederick        Paula            Skocpol         Waters   \n",
       "4   Wasserman         Noam             Nohria          Baker   \n",
       "\n",
       "         Committee3    Year        Committee4 Committee5 Unnamed: 8  \n",
       "0  Bradach, Jeffrey  2001-2      Ventresca, M        NaN        NaN  \n",
       "1      Frank, David  2001-2  Champagne, Duane        NaN        NaN  \n",
       "2      Frank, David  2001-2               NaN        NaN        NaN  \n",
       "3      Frank, David  2001-2               NaN        NaN        NaN  \n",
       "4     Gompers, Paul  2001-2           Marsden        NaN        NaN  "
      ]
     },
     "execution_count": 2,
     "metadata": {},
     "output_type": "execute_result"
    }
   ],
   "source": [
    "# read data\n",
    "df = pd.read_excel('data/Advising_Data_JMM_Edits_August_2017.xls', sheetname=0)\n",
    "df.head()"
   ]
  },
  {
   "cell_type": "markdown",
   "metadata": {},
   "source": [
    "## 1. Create Faculty List\n",
    "\n",
    "We will restrict the analysis of adivisng network to only current faculty. \n",
    "\n",
    "From email exchange with Jason:\n",
    "* Include current (as well as emeritus) faculty and leave out recently-departed faculty -- excluding Filiz Garip, Tey Meadow, Matt Desmond, Nicholas Christakis, Chris Marquis, and Kathy Edin. But include Bruce Western, since, technically, he is on leave rather than resigned.\n",
    "\n",
    "* 'Good' (whom we included in the first iteration of the network) is an affiliate. Best to omit her for this. \n",
    "\n",
    "* As for recently hired faculty, OK to omit faculty who have not served and are not serving on phd committees"
   ]
  },
  {
   "cell_type": "code",
   "execution_count": 3,
   "metadata": {
    "collapsed": false
   },
   "outputs": [
    {
     "data": {
      "text/plain": [
       "Index([       u'StudentLast',       u'StudentFirst', u'Committee1 (chair)',\n",
       "               u'Committee2',         u'Committee3',               u'Year',\n",
       "               u'Committee4',         u'Committee5',         u'Unnamed: 8'],\n",
       "      dtype='object')"
      ]
     },
     "execution_count": 3,
     "metadata": {},
     "output_type": "execute_result"
    }
   ],
   "source": [
    "df.columns"
   ]
  },
  {
   "cell_type": "code",
   "execution_count": 4,
   "metadata": {
    "collapsed": false
   },
   "outputs": [
    {
     "name": "stdout",
     "output_type": "stream",
     "text": [
      "186\n"
     ]
    }
   ],
   "source": [
    "# put all committee columns into a list \n",
    "# then remove duplicate names\n",
    "fac_list = df['Committee1 (chair)'].values.tolist() + df.Committee2.values.tolist() + \\\n",
    "            df.Committee3.values.tolist() + df.Committee4.values.tolist() + df.Committee5.values.tolist()\n",
    "fac_list = list(set(fac_list))\n",
    "print len(fac_list)"
   ]
  },
  {
   "cell_type": "code",
   "execution_count": 5,
   "metadata": {
    "collapsed": false
   },
   "outputs": [
    {
     "name": "stdout",
     "output_type": "stream",
     "text": [
      "[nan, u'Zuckerman', u'Wilson', u'Eck, Diana', u'Reskin', u'Skocpol', u'Beckert, Sven', u'Nohria, Nitin', u'Schneider, Ben', u'Desmond', u'Margolis, Joshua', u'Kanter, Rosabeth', u'Sampson*', u'Ellwood, David', u'Ferguson, Ann', u'Lucchino, Lawrence', u'Podolny, Joel', u'Western', u'Weller, Robert', u'Lorsch, Jay', u'Wildeman, Christopher', u'McGinn', u'DiTomaso, Nancy', u'Marsden', u'Whyte*', u'Lieberson', u'Marquis', u'Ammerman', u'de Sousa-Briggs, Xavier', u'Christakis', u'Edin, Kathryn', u'Hackman, J. Richard', u'Simon, Patrick', u'Polzer, Jeffrey', u'Ammerman, Nancy', u'Coffin, Brent', u'Vogel', u'Higgonet, Patrice', u\"O'Mahony, Siobhan\", u'McDonald, Rory', u'Sorensen, Aage', u'Nanda, Ashish', u'Szelenyi, Ivan', u'Wuthnow, Robert', u'Edmondson', u'Jencks', u'Rainwater, Lee', u'Marsden*', u'Wein, Frederic', u'Schor, Juliet B.', u'Gulati, Ranjay', u'Winship*', u'Van Maanen, John', u'Battilana, Julie', u'Lewis, Mary', u'Stuart, Toby E.', u'Bobo', u'Good', u'Carpenter, Daniel', u'Anteby, Michel', u'Brinton', u'Lei', u'Lamont', u'Ely, Robin', u'Dobbin', u'Dordick, Gwendolyn', u'Bonikowski', u'Sallaz, Jeffrey', u'Mehta, Jal', u'Tushman, Michael', u'Fernandez, Roberto', u'Ely, Robin ', u'Leschziner, Vanina', u'Baker', u'Gompers, Paul', u'Ely, Robin*', u'Borjas, George', u'McMahon, Dorren', u'Ventresca, M', u'Meadow', u'McGinn, Kathleen', u'Mehan', u'Bazerman, Max', u'Amick, Benjamin', u'Singer, Burton', u'Schweber, Libby', u'Baker, George', u'Argyris, Chris', u'Toffel, Michael', u'Laub', u'Anderson, Elijah', u'Berkman, Lisa', u'Mendez, Wendy', u'Piore, Michael', u'McAdam, Douglas', u'Beckfield', u'Chen, Martha', u'Waters', u'Fernandez-Kelly, Patricia', u'Fleming, Lee', u'Charles, Camille', u'Chang, Paul', u'Armstrong, Elizabeth', u'Winship', u'Rosental, Claude', u'Reitz, Jeffrey', u'Casciaro, Tiziana', u'Murnane, Richard J.', u'Gibbons, Robert', u'Sampson', u'Iverson, Torben', u'Podolny', u'Moore, Mark H.', u'Silbey, Susan', u'Small', u'Stuart, Toby*', u'Fernandez', u'Kibria, Nazli', u'Avery, Christopher', u'Ganz', u'Sauder, Michael', u'Tatar, Maria', u'Kaufman', u'Frank, David John', u'Hansen, Morten', u'Gibson, David', u'Hochschild', u'Alexander, Victoria', u'Champagne, Duane', u'Telles, Edward', u'Soysal, Yasemin', u'Chang, Mariko', u'Whyte', u'Merseth, Katherine', u'Reskin, Barbara', u'Pachucki, Mark', u'Ager', u'Perlow, Leslie', u'Kaufman, Jason', u'Nohria', u'Braga', u\"O'Malley, A. James\", u'Killewald', u'Torfason,Magnus', u'Barnes, Louis', u'Hackman', u'Gorski, Philip', u'Bower, Joseph', u'Patterson', u'Andrews, Kenneth', u'Garip', u'Jencks*', u'Bradach, Jeffrey', u'Newman', u'Vujacic, Veljko', u'Andrews', u'Piskorski', u'Abrami, Regina', u'Kay', u'Sorensen, Mette', u'Pager', u'Obukhova, Elena', u'Bailyn, Lotte', u'Gittel, Jody', u'Marquis, Christopher', u'Edmondson, Amy', u'Vogel*', u'Khurana, Rakesh', u'Viterna', u'Khagram, Sanjeev', u'Edin', u'Stovel, Katherine', u'Perry, Elizabeth', u'Kolb, Deborah', u'Carter', u'Szporluk, Roman', u'Schmidt, Vivien', u'Thomas, David', u'Sorensen, A', u'Frank, David', u'Levitt', u'Louie, Vivian', u'Beer, Michael', u'Picon, Antoine', u'Scharfstein, David', u'Edmondson, Amy*']\n"
     ]
    }
   ],
   "source": [
    "print fac_list"
   ]
  },
  {
   "cell_type": "code",
   "execution_count": 6,
   "metadata": {
    "collapsed": false
   },
   "outputs": [
    {
     "name": "stdout",
     "output_type": "stream",
     "text": [
      "25\n"
     ]
    }
   ],
   "source": [
    "# by comparing faculty list on soc website and unique names in the dataset above\n",
    "own_fac_list = ['Wilson', 'Skocpol', 'Sampson', 'Western', 'Marsden', 'Whyte', \n",
    "                'Lieberson', 'Vogel', 'Jencks', 'Winship', 'Bobo', 'Brinton', \n",
    "                'Lei', 'Lamont', 'Dobbin', 'Bonikowski', 'Beckfield', 'Waters', \n",
    "                'Chang, Paul', 'Small', 'Killewald', 'Viterna', 'Patterson', \n",
    "                'Khurana, Rakesh', 'Pager']\n",
    "print len(own_fac_list)"
   ]
  },
  {
   "cell_type": "markdown",
   "metadata": {},
   "source": [
    "## 2. Clean Data"
   ]
  },
  {
   "cell_type": "code",
   "execution_count": 7,
   "metadata": {
    "collapsed": false
   },
   "outputs": [
    {
     "data": {
      "text/html": [
       "<div>\n",
       "<table border=\"1\" class=\"dataframe\">\n",
       "  <thead>\n",
       "    <tr style=\"text-align: right;\">\n",
       "      <th></th>\n",
       "      <th>StudentLast</th>\n",
       "      <th>StudentFirst</th>\n",
       "      <th>Committee1 (chair)</th>\n",
       "      <th>Committee2</th>\n",
       "      <th>Committee3</th>\n",
       "      <th>Year</th>\n",
       "      <th>Committee4</th>\n",
       "      <th>Committee5</th>\n",
       "      <th>Unnamed: 8</th>\n",
       "      <th>Student</th>\n",
       "    </tr>\n",
       "  </thead>\n",
       "  <tbody>\n",
       "    <tr>\n",
       "      <th>0</th>\n",
       "      <td>Rubin</td>\n",
       "      <td>Julia</td>\n",
       "      <td>Skocpol</td>\n",
       "      <td>Barnes, Louis</td>\n",
       "      <td>Bradach, Jeffrey</td>\n",
       "      <td>2001-2</td>\n",
       "      <td>Ventresca, M</td>\n",
       "      <td>NaN</td>\n",
       "      <td>NaN</td>\n",
       "      <td>Rubin,Julia</td>\n",
       "    </tr>\n",
       "    <tr>\n",
       "      <th>1</th>\n",
       "      <td>Gonzalez</td>\n",
       "      <td>Angela</td>\n",
       "      <td>Winship</td>\n",
       "      <td>Bobo</td>\n",
       "      <td>Frank, David</td>\n",
       "      <td>2001-2</td>\n",
       "      <td>Champagne, Duane</td>\n",
       "      <td>NaN</td>\n",
       "      <td>NaN</td>\n",
       "      <td>Gonzalez,Angela</td>\n",
       "    </tr>\n",
       "    <tr>\n",
       "      <th>2</th>\n",
       "      <td>Gorman</td>\n",
       "      <td>Elizabeth</td>\n",
       "      <td>Marsden</td>\n",
       "      <td>Reskin</td>\n",
       "      <td>Frank, David</td>\n",
       "      <td>2001-2</td>\n",
       "      <td>NaN</td>\n",
       "      <td>NaN</td>\n",
       "      <td>NaN</td>\n",
       "      <td>Gorman,Elizabeth</td>\n",
       "    </tr>\n",
       "    <tr>\n",
       "      <th>3</th>\n",
       "      <td>Frederick</td>\n",
       "      <td>Paula</td>\n",
       "      <td>Skocpol</td>\n",
       "      <td>Waters</td>\n",
       "      <td>Frank, David</td>\n",
       "      <td>2001-2</td>\n",
       "      <td>NaN</td>\n",
       "      <td>NaN</td>\n",
       "      <td>NaN</td>\n",
       "      <td>Frederick,Paula</td>\n",
       "    </tr>\n",
       "    <tr>\n",
       "      <th>4</th>\n",
       "      <td>Wasserman</td>\n",
       "      <td>Noam</td>\n",
       "      <td>Nohria</td>\n",
       "      <td>Baker</td>\n",
       "      <td>Gompers, Paul</td>\n",
       "      <td>2001-2</td>\n",
       "      <td>Marsden</td>\n",
       "      <td>NaN</td>\n",
       "      <td>NaN</td>\n",
       "      <td>Wasserman,Noam</td>\n",
       "    </tr>\n",
       "  </tbody>\n",
       "</table>\n",
       "</div>"
      ],
      "text/plain": [
       "  StudentLast StudentFirst Committee1 (chair)     Committee2  \\\n",
       "0       Rubin        Julia            Skocpol  Barnes, Louis   \n",
       "1    Gonzalez       Angela            Winship           Bobo   \n",
       "2      Gorman    Elizabeth            Marsden         Reskin   \n",
       "3   Frederick        Paula            Skocpol         Waters   \n",
       "4   Wasserman         Noam             Nohria          Baker   \n",
       "\n",
       "         Committee3    Year        Committee4 Committee5 Unnamed: 8  \\\n",
       "0  Bradach, Jeffrey  2001-2      Ventresca, M        NaN        NaN   \n",
       "1      Frank, David  2001-2  Champagne, Duane        NaN        NaN   \n",
       "2      Frank, David  2001-2               NaN        NaN        NaN   \n",
       "3      Frank, David  2001-2               NaN        NaN        NaN   \n",
       "4     Gompers, Paul  2001-2           Marsden        NaN        NaN   \n",
       "\n",
       "            Student  \n",
       "0       Rubin,Julia  \n",
       "1   Gonzalez,Angela  \n",
       "2  Gorman,Elizabeth  \n",
       "3   Frederick,Paula  \n",
       "4    Wasserman,Noam  "
      ]
     },
     "execution_count": 7,
     "metadata": {},
     "output_type": "execute_result"
    }
   ],
   "source": [
    "# get student full names\n",
    "\n",
    "def get_student(row):\n",
    "    \"\"\"\n",
    "    Combine student last name and first name.\n",
    "    \"\"\"\n",
    "    \n",
    "    if pd.isnull(row['StudentLast']):\n",
    "        return None\n",
    "    return row['StudentLast'].strip()+','+row['StudentFirst'].strip()\n",
    "\n",
    "df['Student'] = df.apply(get_student, axis=1)\n",
    "df.head()"
   ]
  },
  {
   "cell_type": "code",
   "execution_count": 8,
   "metadata": {
    "collapsed": false
   },
   "outputs": [
    {
     "name": "stdout",
     "output_type": "stream",
     "text": [
      "227 226\n"
     ]
    }
   ],
   "source": [
    "# look for duplicates in students - compare row number and unique student number\n",
    "print df.shape[0], len(df.Student.unique())"
   ]
  },
  {
   "cell_type": "code",
   "execution_count": 9,
   "metadata": {
    "collapsed": false
   },
   "outputs": [
    {
     "name": "stdout",
     "output_type": "stream",
     "text": [
      "(227, 10)\n",
      "(226, 10)\n"
     ]
    }
   ],
   "source": [
    "# remove duplicate\n",
    "print df.shape\n",
    "df = df.drop_duplicates('Student')\n",
    "print df.shape"
   ]
  },
  {
   "cell_type": "markdown",
   "metadata": {},
   "source": [
    "## 2. Create Bipartite Network"
   ]
  },
  {
   "cell_type": "code",
   "execution_count": 10,
   "metadata": {
    "collapsed": false
   },
   "outputs": [],
   "source": [
    "def find_faculty(fac_name, net):\n",
    "    \"\"\"\n",
    "    Given fac_name and bipartite network graph net, \n",
    "    return the node if fac_name is already a node in net.\n",
    "    Otherwise, return None.\n",
    "    \n",
    "    If multiple nodes are found associated with fac_name, raise Exception.\n",
    "    \"\"\"\n",
    "    \n",
    "    fac = [n for n,d in net.nodes(data=True) if n==fac_name]\n",
    "    \n",
    "    if len(fac) == 0:\n",
    "        return None\n",
    "    elif len(fac) == 1:\n",
    "        return fac[0]\n",
    "    else:\n",
    "        raise Exception, 'ERROR: multiple nodes for '+fac_name\n",
    "    "
   ]
  },
  {
   "cell_type": "code",
   "execution_count": 11,
   "metadata": {
    "collapsed": false
   },
   "outputs": [],
   "source": [
    "# create an empty network\n",
    "b = nx.Graph()\n",
    "    \n",
    "\n",
    "# iterate through each row\n",
    "for i, row in df.iterrows():\n",
    "    \n",
    "    # skip the empty row\n",
    "    if pd.isnull(row['StudentLast']):\n",
    "        continue\n",
    "            \n",
    "    # add student node\n",
    "    # attributes: 'last name,first name', year, bipartite=0\n",
    "    stud_name = row[0]+','+row[1]\n",
    "    b.add_node(stud_name, year=row['Year'], bipartite=0)\n",
    "        \n",
    "    # add faculty nodes\n",
    "    for col in ['Committee1 (chair)', 'Committee2', 'Committee3', 'Committee4', 'Committee5']:\n",
    "        fac_name = row[col]\n",
    "        \n",
    "        if pd.isnull(fac_name): # not every student has 4 or 5 committee members\n",
    "            break\n",
    "        \n",
    "        fac_name = fac_name.strip('*') # co-chairs are marked with asterisk, not used, remove     \n",
    "            \n",
    "        if fac_name in own_fac_list: # exclude faculty outside of soc dept\n",
    "            # check if faculty is already added to the network\n",
    "            fac = find_faculty(fac_name, b)\n",
    "            \n",
    "            if not fac:\n",
    "                b.add_node(fac_name, bipartite=1)\n",
    "                \n",
    "            # add student-faculty tie\n",
    "            b.add_edge(stud_name, fac_name)\n",
    "            "
   ]
  },
  {
   "cell_type": "markdown",
   "metadata": {},
   "source": [
    "## 3. Convert Bipartite to One-Mode Network"
   ]
  },
  {
   "cell_type": "code",
   "execution_count": 12,
   "metadata": {
    "collapsed": false
   },
   "outputs": [
    {
     "name": "stdout",
     "output_type": "stream",
     "text": [
      "25\n",
      "[u'Wilson', u'Skocpol', u'Western', u'Marsden', u'Lieberson']\n"
     ]
    }
   ],
   "source": [
    "fac_nodes = [n for n,d in b.nodes(data=True) if d['bipartite']==1]\n",
    "print len(fac_nodes) # SAME as the pre-specified faculty list, so every faculty has served/is serving on phd commmittee\n",
    "print fac_nodes[:5] # print first five faculty names"
   ]
  },
  {
   "cell_type": "code",
   "execution_count": 13,
   "metadata": {
    "collapsed": false
   },
   "outputs": [
    {
     "name": "stdout",
     "output_type": "stream",
     "text": [
      "[(u'Wilson', u'Bobo', {'weight': 6}), (u'Wilson', u'Beckfield', {'weight': 2}), (u'Wilson', u'Jencks', {'weight': 4}), (u'Wilson', u'Sampson', {'weight': 12}), (u'Wilson', u'Brinton', {'weight': 1})]\n"
     ]
    }
   ],
   "source": [
    "g = nx.bipartite.weighted_projected_graph(b, fac_nodes)\n",
    "print g.edges(data=True)[:5] # print first five edges"
   ]
  },
  {
   "cell_type": "markdown",
   "metadata": {},
   "source": [
    "## 4. Export networkx Object to Gephi Object"
   ]
  },
  {
   "cell_type": "code",
   "execution_count": 14,
   "metadata": {
    "collapsed": true
   },
   "outputs": [],
   "source": [
    "# rename two faculty names before exporting\n",
    "g = nx.relabel_nodes(g, {'Chang, Paul':'Chang', 'Khurana, Rakesh':'Khurana'})"
   ]
  },
  {
   "cell_type": "code",
   "execution_count": 15,
   "metadata": {
    "collapsed": false
   },
   "outputs": [],
   "source": [
    "nx.write_gexf(g, 'data/advising_network_2017.gexf')"
   ]
  },
  {
   "cell_type": "markdown",
   "metadata": {},
   "source": [
    "## 5. Analyze Network"
   ]
  },
  {
   "cell_type": "code",
   "execution_count": 15,
   "metadata": {
    "collapsed": false
   },
   "outputs": [
    {
     "name": "stdout",
     "output_type": "stream",
     "text": [
      "[16, 14, 12, 11, 11, 10, 9, 8, 8, 7, 7, 7, 7, 7, 6, 6, 6, 6, 5, 5, 5, 5, 5, 5, 5, 4, 4, 4, 4, 4, 4, 4, 4, 4, 4, 4, 3, 3, 3, 3, 3, 3, 3, 3, 3, 3, 3, 3, 3, 3, 3, 3, 3, 3, 3, 3, 3, 2, 2, 2, 2, 2, 2, 2, 2, 2, 2, 2, 2, 2, 2, 2, 2, 2, 2, 2, 2, 2, 2, 2, 2, 2, 2, 2, 2, 2, 2, 2, 2, 1, 1, 1, 1, 1, 1, 1, 1, 1, 1, 1, 1, 1, 1, 1, 1, 1, 1, 1, 1, 1, 1, 1, 1, 1, 1, 1, 1, 1, 1, 1, 1, 1, 1, 1, 1, 1, 1, 1, 1, 1, 1, 1, 1, 1, 1, 1, 1, 1, 1, 1, 1, 1]\n"
     ]
    }
   ],
   "source": [
    "# find the tie with max weight\n",
    "edge_data = g.edges(data=True)\n",
    "weights = [e[2]['weight'] for e in edge_data]\n",
    "weights.sort(reverse=True)\n",
    "print weights"
   ]
  },
  {
   "cell_type": "code",
   "execution_count": 16,
   "metadata": {
    "collapsed": false
   },
   "outputs": [
    {
     "data": {
      "text/plain": [
       "[(u'Patterson', u'Winship', {'weight': 16})]"
      ]
     },
     "execution_count": 16,
     "metadata": {},
     "output_type": "execute_result"
    }
   ],
   "source": [
    "[e for e in edge_data if e[2]['weight']==16]"
   ]
  },
  {
   "cell_type": "code",
   "execution_count": 17,
   "metadata": {
    "collapsed": false
   },
   "outputs": [
    {
     "data": {
      "text/plain": [
       "[(u'Wilson', u'Waters', {'weight': 14})]"
      ]
     },
     "execution_count": 17,
     "metadata": {},
     "output_type": "execute_result"
    }
   ],
   "source": [
    "[e for e in edge_data if e[2]['weight']==14]"
   ]
  },
  {
   "cell_type": "code",
   "execution_count": 18,
   "metadata": {
    "collapsed": false
   },
   "outputs": [
    {
     "data": {
      "text/plain": [
       "[(u'Wilson', u'Sampson', {'weight': 12})]"
      ]
     },
     "execution_count": 18,
     "metadata": {},
     "output_type": "execute_result"
    }
   ],
   "source": [
    "[e for e in edge_data if e[2]['weight']==12]"
   ]
  },
  {
   "cell_type": "code",
   "execution_count": 19,
   "metadata": {
    "collapsed": false
   },
   "outputs": [
    {
     "data": {
      "text/plain": [
       "[(u'Wilson', u'Lamont', {'weight': 11}),\n",
       " (u'Wilson', u'Winship', {'weight': 11})]"
      ]
     },
     "execution_count": 19,
     "metadata": {},
     "output_type": "execute_result"
    }
   ],
   "source": [
    "[e for e in edge_data if e[2]['weight']==11]"
   ]
  },
  {
   "cell_type": "code",
   "execution_count": 36,
   "metadata": {
    "collapsed": false
   },
   "outputs": [
    {
     "data": {
      "text/plain": [
       "{u'Beckfield': 17,\n",
       " u'Bobo': 10,\n",
       " u'Bonikowski': 13,\n",
       " u'Brinton': 13,\n",
       " 'Chang': 3,\n",
       " u'Dobbin': 11,\n",
       " u'Jencks': 13,\n",
       " 'Khurana': 1,\n",
       " u'Killewald': 14,\n",
       " u'Lamont': 15,\n",
       " u'Lei': 3,\n",
       " u'Lieberson': 2,\n",
       " u'Marsden': 15,\n",
       " u'Pager': 10,\n",
       " u'Patterson': 14,\n",
       " u'Sampson': 13,\n",
       " u'Skocpol': 9,\n",
       " u'Small': 9,\n",
       " u'Viterna': 13,\n",
       " u'Vogel': 4,\n",
       " u'Waters': 19,\n",
       " u'Western': 13,\n",
       " u'Whyte': 14,\n",
       " u'Wilson': 17,\n",
       " u'Winship': 19}"
      ]
     },
     "execution_count": 36,
     "metadata": {},
     "output_type": "execute_result"
    }
   ],
   "source": [
    "# degree distribution\n",
    "g.degree()"
   ]
  },
  {
   "cell_type": "code",
   "execution_count": 30,
   "metadata": {
    "collapsed": false
   },
   "outputs": [
    {
     "data": {
      "image/png": "[encoded data removed]",
      "text/plain": [
       "<matplotlib.figure.Figure at 0x109d97510>"
      ]
     },
     "metadata": {},
     "output_type": "display_data"
    }
   ],
   "source": [
    "degrees = [v for k, v in g.degree().items()]\n",
    "plt.hist(degrees)\n",
    "remove_border()"
   ]
  },
  {
   "cell_type": "code",
   "execution_count": 34,
   "metadata": {
    "collapsed": false
   },
   "outputs": [
    {
     "name": "stdout",
     "output_type": "stream",
     "text": [
      "20\n",
      "[u'Wilson', u'Jencks', u'Whyte', u'Skocpol', u'Killewald', u'Bobo', u'Beckfield', u'Patterson', u'Brinton', u'Waters', u'Lamont', u'Dobbin', u'Western', u'Winship', u'Pager', u'Marsden', u'Sampson', u'Viterna', u'Small', u'Bonikowski']\n"
     ]
    }
   ],
   "source": [
    "well_connected = [k for k, v in g.degree().items() if v>5] # degree > 5\n",
    "print len(well_connected)\n",
    "print well_connected"
   ]
  },
  {
   "cell_type": "code",
   "execution_count": 35,
   "metadata": {
    "collapsed": false
   },
   "outputs": [
    {
     "data": {
      "text/plain": [
       "[(u'Wilson', u'Brinton', {'weight': 1}),\n",
       " (u'Wilson', u'Marsden', {'weight': 1}),\n",
       " (u'Jencks', u'Patterson', {'weight': 1}),\n",
       " (u'Jencks', u'Viterna', {'weight': 1}),\n",
       " (u'Jencks', u'Whyte', {'weight': 1}),\n",
       " (u'Jencks', u'Small', {'weight': 1}),\n",
       " (u'Whyte', u'Viterna', {'weight': 1}),\n",
       " (u'Whyte', u'Waters', {'weight': 1}),\n",
       " (u'Whyte', u'Skocpol', {'weight': 1}),\n",
       " (u'Whyte', u'Bonikowski', {'weight': 1}),\n",
       " (u'Whyte', u'Killewald', {'weight': 1}),\n",
       " (u'Skocpol', u'Sampson', {'weight': 1}),\n",
       " (u'Skocpol', u'Patterson', {'weight': 1}),\n",
       " (u'Killewald', u'Viterna', {'weight': 1}),\n",
       " (u'Killewald', u'Bonikowski', {'weight': 1}),\n",
       " (u'Bobo', u'Patterson', {'weight': 1}),\n",
       " (u'Bobo', u'Bonikowski', {'weight': 1}),\n",
       " (u'Bobo', u'Western', {'weight': 1}),\n",
       " (u'Beckfield', u'Sampson', {'weight': 1}),\n",
       " (u'Beckfield', u'Waters', {'weight': 1}),\n",
       " (u'Patterson', u'Bonikowski', {'weight': 1}),\n",
       " (u'Patterson', u'Western', {'weight': 1}),\n",
       " (u'Brinton', u'Lamont', {'weight': 1}),\n",
       " (u'Brinton', u'Waters', {'weight': 1}),\n",
       " (u'Waters', u'Western', {'weight': 1}),\n",
       " (u'Lamont', u'Western', {'weight': 1}),\n",
       " (u'Lamont', u'Pager', {'weight': 1}),\n",
       " (u'Lamont', u'Marsden', {'weight': 1}),\n",
       " (u'Viterna', u'Sampson', {'weight': 1}),\n",
       " (u'Viterna', u'Marsden', {'weight': 1}),\n",
       " (u'Western', u'Dobbin', {'weight': 1}),\n",
       " (u'Western', u'Pager', {'weight': 1}),\n",
       " (u'Western', u'Marsden', {'weight': 1}),\n",
       " (u'Winship', u'Bonikowski', {'weight': 1}),\n",
       " (u'Winship', u'Small', {'weight': 1}),\n",
       " (u'Winship', u'Pager', {'weight': 1}),\n",
       " (u'Pager', u'Sampson', {'weight': 1}),\n",
       " (u'Pager', u'Dobbin', {'weight': 1}),\n",
       " (u'Pager', u'Small', {'weight': 1}),\n",
       " (u'Pager', u'Bonikowski', {'weight': 1}),\n",
       " (u'Dobbin', u'Small', {'weight': 1}),\n",
       " (u'Small', u'Bonikowski', {'weight': 1})]"
      ]
     },
     "execution_count": 35,
     "metadata": {},
     "output_type": "execute_result"
    }
   ],
   "source": [
    "# print the edges with smallest weights - ONLY IF both faculties are well-connected \n",
    "[e for e in edge_data if e[2]['weight']==1 and e[0] in well_connected and e[1] in well_connected]"
   ]
  },
  {
   "cell_type": "code",
   "execution_count": 38,
   "metadata": {
    "collapsed": false
   },
   "outputs": [
    {
     "name": "stdout",
     "output_type": "stream",
     "text": [
      "300 142\n"
     ]
    }
   ],
   "source": [
    "print len(list(combinations(own_fac_list, 2))), len(g.edges())"
   ]
  },
  {
   "cell_type": "code",
   "execution_count": 42,
   "metadata": {
    "collapsed": false
   },
   "outputs": [
    {
     "name": "stdout",
     "output_type": "stream",
     "text": [
      "('Wilson', 'Dobbin')\n",
      "('Wilson', 'Pager')\n",
      "('Skocpol', 'Western')\n",
      "('Skocpol', 'Marsden')\n",
      "('Skocpol', 'Brinton')\n",
      "('Skocpol', 'Lamont')\n",
      "('Skocpol', 'Dobbin')\n",
      "('Skocpol', 'Bonikowski')\n",
      "('Skocpol', 'Beckfield')\n",
      "('Skocpol', 'Small')\n",
      "('Skocpol', 'Killewald')\n",
      "('Skocpol', 'Viterna')\n",
      "('Skocpol', 'Pager')\n",
      "('Sampson', 'Whyte')\n",
      "('Sampson', 'Bobo')\n",
      "('Sampson', 'Brinton')\n",
      "('Sampson', 'Dobbin')\n",
      "('Sampson', 'Bonikowski')\n",
      "('Sampson', 'Small')\n",
      "('Western', 'Whyte')\n",
      "('Western', 'Brinton')\n",
      "('Western', 'Bonikowski')\n",
      "('Western', 'Small')\n",
      "('Western', 'Viterna')\n",
      "('Marsden', 'Bobo')\n",
      "('Marsden', 'Bonikowski')\n",
      "('Marsden', 'Small')\n",
      "('Marsden', 'Killewald')\n",
      "('Marsden', 'Patterson')\n",
      "('Marsden', 'Pager')\n",
      "('Whyte', 'Bobo')\n",
      "('Whyte', 'Small')\n",
      "('Whyte', 'Patterson')\n",
      "('Whyte', 'Pager')\n",
      "('Jencks', 'Bobo')\n",
      "('Jencks', 'Brinton')\n",
      "('Jencks', 'Lamont')\n",
      "('Jencks', 'Dobbin')\n",
      "('Jencks', 'Bonikowski')\n",
      "('Jencks', 'Pager')\n",
      "('Winship', 'Killewald')\n",
      "('Bobo', 'Brinton')\n",
      "('Bobo', 'Dobbin')\n",
      "('Bobo', 'Small')\n",
      "('Bobo', 'Killewald')\n",
      "('Bobo', 'Viterna')\n",
      "('Brinton', 'Bonikowski')\n",
      "('Brinton', 'Small')\n",
      "('Brinton', 'Pager')\n",
      "('Lamont', 'Small')\n",
      "('Lamont', 'Killewald')\n",
      "('Dobbin', 'Waters')\n",
      "('Dobbin', 'Viterna')\n",
      "('Dobbin', 'Patterson')\n",
      "('Beckfield', 'Viterna')\n",
      "('Waters', 'Pager')\n",
      "('Small', 'Viterna')\n",
      "('Small', 'Patterson')\n",
      "('Killewald', 'Patterson')\n",
      "('Viterna', 'Pager')\n",
      "('Patterson', 'Pager')\n"
     ]
    }
   ],
   "source": [
    "# which ties are missing?\n",
    "\n",
    "edges = g.edges() # existing ties\n",
    "\n",
    "for pair in combinations(own_fac_list, 2):\n",
    "    \n",
    "    if pair in edges:\n",
    "        pass\n",
    "    elif (pair[1], pair[0]) in edges: # change order and check in existing edges again\n",
    "        pass\n",
    "    elif pair[0] in well_connected and pair[1] in well_connected:\n",
    "        print pair\n"
   ]
  },
  {
   "cell_type": "code",
   "execution_count": null,
   "metadata": {
    "collapsed": true
   },
   "outputs": [],
   "source": []
  }
 ],
 "metadata": {
  "kernelspec": {
   "display_name": "Python 2",
   "language": "python",
   "name": "python2"
  },
  "language_info": {
   "codemirror_mode": {
    "name": "ipython",
    "version": 2
   },
   "file_extension": ".py",
   "mimetype": "text/x-python",
   "name": "python",
   "nbconvert_exporter": "python",
   "pygments_lexer": "ipython2",
   "version": "2.7.12"
  }
 },
 "nbformat": 4,
 "nbformat_minor": 0
}
